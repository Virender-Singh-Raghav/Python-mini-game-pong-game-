{
 "cells": [
  {
   "cell_type": "code",
   "execution_count": 9,
   "id": "f995b1fe-af14-4a26-ac7b-1abe5e117b56",
   "metadata": {},
   "outputs": [
    {
     "name": "stdout",
     "output_type": "stream",
     "text": [
      "Note: you may need to restart the kernel to use updated packages.\n"
     ]
    },
    {
     "name": "stderr",
     "output_type": "stream",
     "text": [
      "ERROR: Could not find a version that satisfies the requirement turtle (from versions: none)\n",
      "ERROR: No matching distribution found for turtle\n"
     ]
    }
   ],
   "source": [
    "pip install turtle"
   ]
  },
  {
   "cell_type": "code",
   "execution_count": 10,
   "id": "5a0531a7-0008-4e8f-b6af-d4e9980e2d20",
   "metadata": {},
   "outputs": [],
   "source": [
    "# Import the turtle library\n",
    "import turtle"
   ]
  },
  {
   "cell_type": "code",
   "execution_count": 11,
   "id": "c900a66b-1bbf-416c-ac50-9225fdcdefc5",
   "metadata": {},
   "outputs": [],
   "source": [
    "# Creating the screen with name and size\n",
    "screen = turtle.Screen()\n"
   ]
  },
  {
   "cell_type": "code",
   "execution_count": 12,
   "id": "3af9159b-fcc1-4c76-9112-64bcc3ad4e20",
   "metadata": {},
   "outputs": [],
   "source": [
    "screen.title(\"DataFlair Pong game\")"
   ]
  },
  {
   "cell_type": "code",
   "execution_count": 13,
   "id": "cc1c69db-81bc-414c-9a75-e2c664982b33",
   "metadata": {},
   "outputs": [],
   "source": [
    "screen.setup(width=1000 , height=600)"
   ]
  },
  {
   "cell_type": "code",
   "execution_count": 14,
   "id": "0378dce0-ef8a-4b70-b402-2b6a91bc5a35",
   "metadata": {},
   "outputs": [],
   "source": [
    "# Creating the left paddle\n",
    "paddle1 = turtle.Turtle()"
   ]
  },
  {
   "cell_type": "code",
   "execution_count": 15,
   "id": "bc75d8d9-ae27-42d4-8fce-d39932c14293",
   "metadata": {},
   "outputs": [],
   "source": [
    "#Setting its speed as zero, it moves only when key is pressed\n",
    "paddle1.speed(0)"
   ]
  },
  {
   "cell_type": "code",
   "execution_count": 16,
   "id": "1d259e51-b1a1-4223-a475-aac8e90b09a6",
   "metadata": {},
   "outputs": [],
   "source": [
    "#Setting shape, color, and size\n",
    "paddle1.shape(\"square\")"
   ]
  },
  {
   "cell_type": "code",
   "execution_count": 17,
   "id": "c08f33dd-5d1f-4275-be11-ebfcff59ce66",
   "metadata": {},
   "outputs": [],
   "source": [
    "paddle1.color(\"blue\")"
   ]
  },
  {
   "cell_type": "code",
   "execution_count": 18,
   "id": "ebf357d9-c42b-4cc2-a2d8-8dbd2994134a",
   "metadata": {},
   "outputs": [],
   "source": [
    "paddle1.shapesize(stretch_wid=6, stretch_len=2)\n",
    "paddle1.penup()"
   ]
  },
  {
   "cell_type": "code",
   "execution_count": 19,
   "id": "f02337aa-381d-4964-a4fe-d4a99333ad67",
   "metadata": {},
   "outputs": [],
   "source": [
    "#The paddle is left-centered initially\n",
    "paddle1.goto(-400, 0)"
   ]
  },
  {
   "cell_type": "code",
   "execution_count": 20,
   "id": "9295025e-ea10-4b6e-9d6e-eff8adb89a5f",
   "metadata": {},
   "outputs": [],
   "source": [
    "# Creating the right paddle\n",
    "paddle2 = turtle.Turtle()"
   ]
  },
  {
   "cell_type": "code",
   "execution_count": 21,
   "id": "39053238-0576-4921-818d-684ceb0aec01",
   "metadata": {},
   "outputs": [],
   "source": [
    "#Setting its speed as zero, it moves only when key is pressed\n",
    "paddle2.speed(0)"
   ]
  },
  {
   "cell_type": "code",
   "execution_count": 22,
   "id": "5ce632c8-7b97-41cc-9e81-a301e0a7cd37",
   "metadata": {},
   "outputs": [],
   "source": [
    "#Setting shape, color, and size\n",
    "paddle2.shape(\"square\")"
   ]
  },
  {
   "cell_type": "code",
   "execution_count": 23,
   "id": "b1070bba-ad88-42f9-afdf-a1e9c158984f",
   "metadata": {},
   "outputs": [],
   "source": [
    "paddle2.color(\"red\")"
   ]
  },
  {
   "cell_type": "code",
   "execution_count": 24,
   "id": "d7d00fa4-ab8b-4700-abc6-33b7adc022f3",
   "metadata": {},
   "outputs": [],
   "source": [
    "paddle2.shapesize(stretch_wid=6, stretch_len=2)\n",
    "paddle2.penup()"
   ]
  },
  {
   "cell_type": "code",
   "execution_count": 25,
   "id": "119dad34-15bc-456a-b92c-64648c2024a4",
   "metadata": {},
   "outputs": [],
   "source": [
    "#The paddle is right-centered initially\n",
    "paddle2.goto(400, 0)"
   ]
  },
  {
   "cell_type": "code",
   "execution_count": 26,
   "id": "2a2c0362-e2fa-4cea-ac94-15b77e61d848",
   "metadata": {},
   "outputs": [],
   "source": [
    "# Ball of circle shape\n",
    "ball = turtle.Turtle()"
   ]
  },
  {
   "cell_type": "code",
   "execution_count": 27,
   "id": "c0ab56a6-6d35-4b2a-b4f3-cd2807876893",
   "metadata": {},
   "outputs": [],
   "source": [
    "#Setting the speed of ball to 0, it moves based on the dx and dy values\n",
    "ball.speed(0)"
   ]
  },
  {
   "cell_type": "code",
   "execution_count": 28,
   "id": "912548a4-35e6-4e2d-8927-2dc11f9c2aca",
   "metadata": {},
   "outputs": [],
   "source": [
    "#Setting shape, color, and size\n",
    "ball.shape(\"circle\")"
   ]
  },
  {
   "cell_type": "code",
   "execution_count": 30,
   "id": "0ba13642-2bda-4ae9-9f98-c6b4ba6e4d2e",
   "metadata": {},
   "outputs": [],
   "source": [
    "ball.color(\"green\")"
   ]
  },
  {
   "cell_type": "code",
   "execution_count": null,
   "id": "cdb4e27c-92b1-4a7e-8f4e-725d184a8ae0",
   "metadata": {},
   "outputs": [],
   "source": [
    "ball.penup()"
   ]
  },
  {
   "cell_type": "code",
   "execution_count": 32,
   "id": "02ac5dd9-6700-47cb-b24a-a30d862687f3",
   "metadata": {},
   "outputs": [],
   "source": [
    "#Ball starts from the centre of the screen\n",
    "ball.goto(0, 0)"
   ]
  },
  {
   "cell_type": "code",
   "execution_count": 34,
   "id": "938e3246-e467-4431-8d55-0999c1bacf6c",
   "metadata": {},
   "outputs": [],
   "source": [
    "ball.dx = 2"
   ]
  },
  {
   "cell_type": "code",
   "execution_count": 36,
   "id": "46c581cc-579b-4bad-b558-ba9d43d2ec50",
   "metadata": {},
   "outputs": [],
   "source": [
    "ball.dy = -2"
   ]
  },
  {
   "cell_type": "code",
   "execution_count": 38,
   "id": "433ce3f1-5429-4a67-8843-fe74b2c164a3",
   "metadata": {},
   "outputs": [],
   "source": [
    "# Initializing the score of the two players\n",
    "player1 = 0"
   ]
  },
  {
   "cell_type": "code",
   "execution_count": 40,
   "id": "f8dec385-812a-4ca3-98fc-3505af624456",
   "metadata": {},
   "outputs": [],
   "source": [
    "player2 = 0"
   ]
  },
  {
   "cell_type": "code",
   "execution_count": 42,
   "id": "0084558d-4d65-42b5-9835-745d02491905",
   "metadata": {},
   "outputs": [],
   "source": [
    "# Displaying the score\n",
    "score = turtle.Turtle()"
   ]
  },
  {
   "cell_type": "code",
   "execution_count": 44,
   "id": "42333779-e41e-4445-9b89-ba7f2fdefb7e",
   "metadata": {},
   "outputs": [],
   "source": [
    "score.speed(0)"
   ]
  },
  {
   "cell_type": "code",
   "execution_count": 46,
   "id": "0596f76c-6798-41be-8f29-7b7f383a1309",
   "metadata": {},
   "outputs": [],
   "source": [
    "score.penup()"
   ]
  },
  {
   "cell_type": "code",
   "execution_count": 48,
   "id": "4f582320-64c6-45e7-a120-c7f6877a3ee0",
   "metadata": {},
   "outputs": [],
   "source": [
    "#Hiding the turtle to show text\n",
    "score.hideturtle()"
   ]
  },
  {
   "cell_type": "code",
   "execution_count": 50,
   "id": "eb264712-2a4f-452a-abf7-270b8f11963f",
   "metadata": {},
   "outputs": [],
   "source": [
    "#Locating the scoreboard on top of the screen\n",
    "score.goto(0, 260)"
   ]
  },
  {
   "cell_type": "code",
   "execution_count": 52,
   "id": "aac046c3-8a01-401b-812d-9f0d1e66de94",
   "metadata": {},
   "outputs": [],
   "source": [
    "#Showing the score\n",
    "score.write(\"Player1 : 0 Player2: 0\", align=\"center\", font=(\"Courier\", 20, \"bold\"))"
   ]
  },
  {
   "cell_type": "code",
   "execution_count": 54,
   "id": "3eb12ee5-d68b-4f93-822b-126e9b635ebf",
   "metadata": {},
   "outputs": [],
   "source": [
    "# Function to move the left paddle up"
   ]
  },
  {
   "cell_type": "code",
   "execution_count": 69,
   "id": "af2e99b6-d13b-4249-903f-1093d270c21f",
   "metadata": {},
   "outputs": [],
   "source": [
    "def movePad1Up():\n",
    "     y = paddle1.ycor() #Getting the current y-coordinated of the left paddle\n",
    "     y += 15\n",
    "     paddle1.sety(y) #Updating the y-coordinated of the paddle"
   ]
  },
  {
   "cell_type": "code",
   "execution_count": 71,
   "id": "6270f3d9-1d80-42fe-904a-899e9ea1c336",
   "metadata": {},
   "outputs": [],
   "source": [
    "\n",
    "# Function to move the left paddle down"
   ]
  },
  {
   "cell_type": "code",
   "execution_count": 73,
   "id": "c2672a64-fdd8-4818-ac43-982a4b2060ea",
   "metadata": {},
   "outputs": [],
   "source": [
    "def movePad1Down():\n",
    "    y = paddle1.ycor()#Getting the current y-coordinated of the left paddle\n",
    "    y -= 15\n",
    "    paddle1.sety(y)#Updating the y-coordinated of the paddle"
   ]
  },
  {
   "cell_type": "code",
   "execution_count": 75,
   "id": "8a05c848-4019-4af8-a9c3-de8e64838e42",
   "metadata": {},
   "outputs": [],
   "source": [
    "# Function to move the right paddle up\n",
    "def movePad2Up():\n",
    "    y = paddle2.ycor()#Getting the current y-coordinated of the right paddle\n",
    "    y += 15\n",
    "    paddle2.sety(y)#Updating the y-coordinated of the paddle"
   ]
  },
  {
   "cell_type": "code",
   "execution_count": 77,
   "id": "0d18911c-2ebd-4b4a-9481-7c8761ff5ea3",
   "metadata": {},
   "outputs": [],
   "source": [
    "# Function to move the right paddle down\n",
    "def movePad2Down():\n",
    "   y = paddle2.ycor()#Getting the current y-coordinated of the right paddle\n",
    "   y -= 15\n",
    "   paddle2.sety(y)#Updating the y-coordinated of the paddle"
   ]
  },
  {
   "cell_type": "code",
   "execution_count": 79,
   "id": "bea3ebf7-5ec4-4f9a-abbb-b79c682061c1",
   "metadata": {},
   "outputs": [],
   "source": [
    "# Matching the Keyboard buttons to the above functions=\n",
    "screen.listen()\n",
    "screen.onkeypress(movePad1Up, \"Left\")\n",
    "screen.onkeypress(movePad1Down, \"Right\")\n",
    "screen.onkeypress(movePad2Up, \"Up\")\n",
    "screen.onkeypress(movePad2Down, \"Down\")"
   ]
  },
  {
   "cell_type": "code",
   "execution_count": 81,
   "id": "8ea1a07e-f34f-4fd3-b5ce-19424fed9e84",
   "metadata": {},
   "outputs": [
    {
     "ename": "Terminator",
     "evalue": "",
     "output_type": "error",
     "traceback": [
      "\u001b[1;31m---------------------------------------------------------------------------\u001b[0m",
      "\u001b[1;31mTerminator\u001b[0m                                Traceback (most recent call last)",
      "Cell \u001b[1;32mIn[81], line 4\u001b[0m\n\u001b[0;32m      1\u001b[0m \u001b[38;5;66;03m#The main game\u001b[39;00m\n\u001b[0;32m      2\u001b[0m \u001b[38;5;28;01mwhile\u001b[39;00m \u001b[38;5;28;01mTrue\u001b[39;00m:\n\u001b[0;32m      3\u001b[0m   \u001b[38;5;66;03m#Updating the screen every time with the new changes\u001b[39;00m\n\u001b[1;32m----> 4\u001b[0m   screen\u001b[38;5;241m.\u001b[39mupdate()\n",
      "File \u001b[1;32m~\\anaconda3\\Lib\\turtle.py:1295\u001b[0m, in \u001b[0;36mTurtleScreen.update\u001b[1;34m(self)\u001b[0m\n\u001b[0;32m   1293\u001b[0m \u001b[38;5;28mself\u001b[39m\u001b[38;5;241m.\u001b[39m_tracing \u001b[38;5;241m=\u001b[39m \u001b[38;5;28;01mTrue\u001b[39;00m\n\u001b[0;32m   1294\u001b[0m \u001b[38;5;28;01mfor\u001b[39;00m t \u001b[38;5;129;01min\u001b[39;00m \u001b[38;5;28mself\u001b[39m\u001b[38;5;241m.\u001b[39mturtles():\n\u001b[1;32m-> 1295\u001b[0m     t\u001b[38;5;241m.\u001b[39m_update_data()\n\u001b[0;32m   1296\u001b[0m     t\u001b[38;5;241m.\u001b[39m_drawturtle()\n\u001b[0;32m   1297\u001b[0m \u001b[38;5;28mself\u001b[39m\u001b[38;5;241m.\u001b[39m_tracing \u001b[38;5;241m=\u001b[39m tracing\n",
      "File \u001b[1;32m~\\anaconda3\\Lib\\turtle.py:2654\u001b[0m, in \u001b[0;36mRawTurtle._update_data\u001b[1;34m(self)\u001b[0m\n\u001b[0;32m   2653\u001b[0m \u001b[38;5;28;01mdef\u001b[39;00m \u001b[38;5;21m_update_data\u001b[39m(\u001b[38;5;28mself\u001b[39m):\n\u001b[1;32m-> 2654\u001b[0m     \u001b[38;5;28mself\u001b[39m\u001b[38;5;241m.\u001b[39mscreen\u001b[38;5;241m.\u001b[39m_incrementudc()\n\u001b[0;32m   2655\u001b[0m     \u001b[38;5;28;01mif\u001b[39;00m \u001b[38;5;28mself\u001b[39m\u001b[38;5;241m.\u001b[39mscreen\u001b[38;5;241m.\u001b[39m_updatecounter \u001b[38;5;241m!=\u001b[39m \u001b[38;5;241m0\u001b[39m:\n\u001b[0;32m   2656\u001b[0m         \u001b[38;5;28;01mreturn\u001b[39;00m\n",
      "File \u001b[1;32m~\\anaconda3\\Lib\\turtle.py:1284\u001b[0m, in \u001b[0;36mTurtleScreen._incrementudc\u001b[1;34m(self)\u001b[0m\n\u001b[0;32m   1282\u001b[0m \u001b[38;5;28;01mif\u001b[39;00m \u001b[38;5;129;01mnot\u001b[39;00m TurtleScreen\u001b[38;5;241m.\u001b[39m_RUNNING:\n\u001b[0;32m   1283\u001b[0m     TurtleScreen\u001b[38;5;241m.\u001b[39m_RUNNING \u001b[38;5;241m=\u001b[39m \u001b[38;5;28;01mTrue\u001b[39;00m\n\u001b[1;32m-> 1284\u001b[0m     \u001b[38;5;28;01mraise\u001b[39;00m Terminator\n\u001b[0;32m   1285\u001b[0m \u001b[38;5;28;01mif\u001b[39;00m \u001b[38;5;28mself\u001b[39m\u001b[38;5;241m.\u001b[39m_tracing \u001b[38;5;241m>\u001b[39m \u001b[38;5;241m0\u001b[39m:\n\u001b[0;32m   1286\u001b[0m     \u001b[38;5;28mself\u001b[39m\u001b[38;5;241m.\u001b[39m_updatecounter \u001b[38;5;241m+\u001b[39m\u001b[38;5;241m=\u001b[39m \u001b[38;5;241m1\u001b[39m\n",
      "\u001b[1;31mTerminator\u001b[0m: "
     ]
    }
   ],
   "source": [
    "#The main game\n",
    "while True:\n",
    "  #Updating the screen every time with the new changes\n",
    "  screen.update()"
   ]
  },
  {
   "cell_type": "code",
   "execution_count": null,
   "id": "a6704da8-b777-4392-8b36-b16cd83a70e3",
   "metadata": {},
   "outputs": [],
   "source": [
    "#Moving the ball by updating the coordinates\n",
    "  ball.setx(ball.xcor()+ball.dx)\n",
    "  ball.sety(ball.ycor()+ball.dy)"
   ]
  },
  {
   "cell_type": "code",
   "execution_count": null,
   "id": "0e433e71-c906-429b-87dc-51e69ce419b3",
   "metadata": {},
   "outputs": [],
   "source": [
    "# Checking if ball hits the top of the screen\n",
    "  if ball.ycor() > 280:\n",
    "   ball.sety(280)\n",
    "   ball.dy *= -1 #Bouncing the ball\n"
   ]
  },
  {
   "cell_type": "code",
   "execution_count": null,
   "id": "372e2044-1c1a-4ae8-aa26-528adc76b3ec",
   "metadata": {},
   "outputs": [],
   "source": [
    "# Checking if ball hits the bottom of the screen\n",
    "  if ball.ycor() < -280:\n",
    "   ball.sety(-280)\n",
    "   ball.dy *= -1#Bouncing the ball"
   ]
  },
  {
   "cell_type": "code",
   "execution_count": null,
   "id": "d166d45e-cf14-414b-8196-983e6049080a",
   "metadata": {},
   "outputs": [],
   "source": [
    " #Checking if the ball hits the left or right walls, the player missed the hit\n",
    "  if ball.xcor() > 480 or ball.xcor() < -480:\n",
    "   if(ball.xcor() <-480):\n",
    "    player2 += 1 #Increasing the score of right player if left player missed\n",
    "   else:\n",
    "    player1 += 1 #Increasing the score of left player if right player missed"
   ]
  },
  {
   "cell_type": "code",
   "execution_count": null,
   "id": "0dfdbf1e-999d-4e61-9f87-b5f5b74b4b8c",
   "metadata": {},
   "outputs": [],
   "source": [
    " #Starting ball again from center towards the opposite direction\n",
    "   ball.goto(0, 0)\n",
    "   ball.dx *= -1\n",
    "   ball.dy *= -1"
   ]
  },
  {
   "cell_type": "code",
   "execution_count": null,
   "id": "ea3c69d3-1709-49a4-a2c5-46d6c8575ce7",
   "metadata": {},
   "outputs": [],
   "source": [
    " #Updating score in the scoreboard\n",
    "  score.clear()\n",
    "  score.write(\"Player1 : {} Player2: {}\".format(player1, player2), align=\"center\", font=(\"Courier\", 20, \"bold\"))"
   ]
  },
  {
   "cell_type": "code",
   "execution_count": null,
   "id": "6c2c2e7c-b185-4014-999d-015de48287cb",
   "metadata": {},
   "outputs": [],
   "source": [
    "#Checking if the left player hit the ball\n",
    "  if (ball.xcor() < -360 and ball.xcor() > -370) and (paddle1.ycor() + 50 > ball.ycor() > paddle1.ycor() - 50):"
   ]
  },
  {
   "cell_type": "code",
   "execution_count": null,
   "id": "95b69e52-b19b-4942-b417-0919d01edffa",
   "metadata": {},
   "outputs": [],
   "source": [
    "#Increasing score of left player and updating score board\n",
    "   player1 += 1\n",
    "   score.clear()\n",
    "   score.write(\"Player A: {} Player B: {}\".format(player1, player2), align=\"center\", font=(\"Courier\", 20, \"bold\"))\n",
    "   ball.setx(-360)"
   ]
  },
  {
   "cell_type": "code",
   "execution_count": null,
   "id": "2c30e8bc-63ff-4bb8-8b53-bb7c9b5839c0",
   "metadata": {},
   "outputs": [],
   "source": [
    "#Increasing speed of the ball with the limit 7\n",
    "  if(ball.dy>0 and ball.dy<5): #If dy is positive increasing dy\n",
    "  ball.dy+=0.5\n",
    "  elif(ball.dy<0 and ball.dy>-5): #else if dy is negative decreasing dy\n",
    "  ball.dy-=0.5"
   ]
  },
  {
   "cell_type": "code",
   "execution_count": null,
   "id": "96bb9076-3912-44ac-9d65-ac0249d2b090",
   "metadata": {},
   "outputs": [],
   "source": [
    "if(ball.dx>0 and ball.dx<5):#If dx is positive increasing dx\n",
    "  ball.dx+=0.5\n",
    "  elif(ball.dx<0 and ball.dx>-5): #else if dx is negative decreasing dx\n",
    "  ball.dx-=0.5"
   ]
  },
  {
   "cell_type": "code",
   "execution_count": null,
   "id": "ca810c39-f3e0-47c0-8f72-36d4df7d2981",
   "metadata": {},
   "outputs": [],
   "source": [
    " #Changing the direction of ball towards the right player\n",
    "  ball.dx *=-1"
   ]
  },
  {
   "cell_type": "code",
   "execution_count": null,
   "id": "418c49e6-9bb3-4560-81d1-043ed6669f3a",
   "metadata": {},
   "outputs": [],
   "source": [
    "#Checking if the right player hit the ball\n",
    "  if (ball.xcor() > 360 and ball.xcor() < 370) and (paddle2.ycor() + 50 > ball.ycor() > paddle2.ycor() - 50):"
   ]
  },
  {
   "cell_type": "code",
   "execution_count": null,
   "id": "a83066a9-7fd3-41a3-b67c-aa8ffb4f6cd3",
   "metadata": {},
   "outputs": [],
   "source": [
    " #Increasing score of right player and updating scoreboard\n",
    "  player2 += 1\n",
    "  score.clear()\n",
    "  score.write(\"Player A: {} Player B: {}\".format(player1, player2), align=\"center\", font=(\"Courier\", 20, \"bold\"))\n",
    "  ball.setx(360)\n"
   ]
  },
  {
   "cell_type": "code",
   "execution_count": null,
   "id": "39f5ca9c-7572-44d6-8a96-54e36e2d6cfc",
   "metadata": {},
   "outputs": [],
   "source": [
    "#Increasing speed of the ball with the limit 7\n",
    "  if(ball.dy>0 and ball.dy<7):#If dy is positive increasing dy\n",
    "   ball.dy+=1\n",
    "  elif(ball.dy<0 and ball.dy>-7):#else if dy is negative decreasing dy\n",
    "   ball.dy-=1"
   ]
  },
  {
   "cell_type": "code",
   "execution_count": null,
   "id": "66ee5ef1-7477-40a6-8efd-58576d3e9f0c",
   "metadata": {},
   "outputs": [],
   "source": [
    " if(ball.dx>0 and ball.dx<7):#If dx is positive increasing dx\n",
    "   ball.dx+=1\n",
    "  elif(ball.dx<0 and ball.dx>-7): #else if dx is negative decreasing dx\n",
    "   ball.dx-=1\n",
    "  #Changing the direction of ball towards the left player\n",
    "   ball.dx*=-1"
   ]
  },
  {
   "cell_type": "code",
   "execution_count": null,
   "id": "4320b148-6282-4853-afcf-f6c9a411d325",
   "metadata": {},
   "outputs": [],
   "source": []
  }
 ],
 "metadata": {
  "kernelspec": {
   "display_name": "Python [conda env:base] *",
   "language": "python",
   "name": "conda-base-py"
  },
  "language_info": {
   "codemirror_mode": {
    "name": "ipython",
    "version": 3
   },
   "file_extension": ".py",
   "mimetype": "text/x-python",
   "name": "python",
   "nbconvert_exporter": "python",
   "pygments_lexer": "ipython3",
   "version": "3.12.7"
  }
 },
 "nbformat": 4,
 "nbformat_minor": 5
}
